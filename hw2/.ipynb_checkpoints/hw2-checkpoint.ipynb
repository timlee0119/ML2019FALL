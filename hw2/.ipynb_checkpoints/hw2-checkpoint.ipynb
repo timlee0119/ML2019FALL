{
 "cells": [
  {
   "cell_type": "code",
   "execution_count": 2,
   "metadata": {},
   "outputs": [],
   "source": [
    "import numpy as np\n",
    "import pandas as pd"
   ]
  },
  {
   "cell_type": "code",
   "execution_count": 28,
   "metadata": {
    "scrolled": false
   },
   "outputs": [
    {
     "data": {
      "text/plain": [
       " Federal-gov         0\n",
       " Local-gov           0\n",
       " Never-worked        0\n",
       " Private             0\n",
       " Self-emp-inc        0\n",
       " Self-emp-not-inc    0\n",
       " State-gov           0\n",
       " Without-pay         0\n",
       "?_workclass          1\n",
       " 10th                0\n",
       "Name: 27, dtype: int64"
      ]
     },
     "execution_count": 28,
     "metadata": {},
     "output_type": "execute_result"
    }
   ],
   "source": [
    "X_train = pd.read_csv(\"data/X_train\")\n",
    "Y_train = pd.read_csv(\"data/Y_train\")\n",
    "X_train.iloc[27,:][6:16]"
   ]
  },
  {
   "cell_type": "code",
   "execution_count": 50,
   "metadata": {},
   "outputs": [
    {
     "name": "stdout",
     "output_type": "stream",
     "text": [
      "age                int64\n",
      "workclass         object\n",
      "fnlwgt             int64\n",
      "education         object\n",
      "education_num      int64\n",
      "marital_status    object\n",
      "occupation        object\n",
      "relationship      object\n",
      "race              object\n",
      "sex               object\n",
      "capital_gain       int64\n",
      "capital_loss       int64\n",
      "hours_per_week     int64\n",
      "native_country    object\n",
      "income            object\n",
      "dtype: object\n",
      "%s has nan? %s ('age', False)\n",
      "%s has nan? %s ('fnlwgt', False)\n",
      "%s has nan? %s ('education_num', False)\n",
      "%s has nan? %s ('capital_gain', False)\n",
      "%s has nan? %s ('capital_loss', False)\n",
      "%s has nan? %s ('hours_per_week', False)\n"
     ]
    }
   ],
   "source": [
    "train = pd.read_csv(\"data/train.csv\")\n",
    "# train.applymap(lambda x: x.strip())\n",
    "# train.iloc[26,:].workclass\n",
    "print(train.dtypes)\n",
    "numeric_cols = ['age', 'fnlwgt', 'education_num', 'capital_gain', 'capital_loss', 'hours_per_week']\n",
    "for col in numeric_cols:\n",
    "    print(\"%s has nan? %s\" % (col, pd.isnull(train[col]).any()))"
   ]
  },
  {
   "cell_type": "code",
   "execution_count": 49,
   "metadata": {},
   "outputs": [
    {
     "data": {
      "text/plain": [
       "False"
      ]
     },
     "execution_count": 49,
     "metadata": {},
     "output_type": "execute_result"
    }
   ],
   "source": [
    "pd.isnull(train.age).any()"
   ]
  },
  {
   "cell_type": "code",
   "execution_count": null,
   "metadata": {},
   "outputs": [],
   "source": []
  }
 ],
 "metadata": {
  "kernelspec": {
   "display_name": "Python (ml2019fall_hw2)",
   "language": "python",
   "name": "ml2019fall_hw2"
  },
  "language_info": {
   "codemirror_mode": {
    "name": "ipython",
    "version": 3
   },
   "file_extension": ".py",
   "mimetype": "text/x-python",
   "name": "python",
   "nbconvert_exporter": "python",
   "pygments_lexer": "ipython3",
   "version": "3.6.9"
  }
 },
 "nbformat": 4,
 "nbformat_minor": 2
}
