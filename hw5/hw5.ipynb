{
 "cells": [
  {
   "cell_type": "code",
   "execution_count": 1,
   "metadata": {},
   "outputs": [],
   "source": [
    "import os\n",
    "from datetime import datetime\n",
    "import numpy as np\n",
    "import pandas as pd\n",
    "import spacy\n",
    "import emoji\n",
    "from gensim.models import Word2Vec\n",
    "import torch\n",
    "from torch import optim\n",
    "import torch.nn as nn\n",
    "import torch.nn.init as init\n",
    "from torch.utils.data import DataLoader, Dataset\n",
    "from torch.nn.utils.rnn import pad_sequence"
   ]
  },
  {
   "cell_type": "markdown",
   "metadata": {},
   "source": [
    "## Data Preporcessing"
   ]
  },
  {
   "cell_type": "code",
   "execution_count": 2,
   "metadata": {},
   "outputs": [],
   "source": [
    "## try bidirectioanl\n",
    "## smaller batch size\n",
    "## smaller lr\n",
    "## rmsprop\n",
    "## dropout\n",
    "## resize hidden size or embedding dim"
   ]
  },
  {
   "cell_type": "code",
   "execution_count": 2,
   "metadata": {},
   "outputs": [],
   "source": [
    "train_x = pd.read_csv(\"data/train_x.csv\")\n",
    "train_y = pd.read_csv(\"data/train_y.csv\")\n",
    "test_x = pd.read_csv(\"data/test_x.csv\")"
   ]
  },
  {
   "cell_type": "code",
   "execution_count": 3,
   "metadata": {
    "scrolled": false
   },
   "outputs": [],
   "source": [
    "def dataPreprocess(comments):\n",
    "    ret = comments.copy()\n",
    "    nlp = spacy.load(\"en_core_web_sm\")\n",
    "    for i in range(len(ret)):\n",
    "        if i % 1000 == 999:\n",
    "            print(f'No. {i+1}')\n",
    "        \n",
    "        doc = nlp(ret[i])\n",
    "        # tolower, lemmatization, remove @user and non-alpha\n",
    "#         ret[i] = [x.lemma_.strip().lower() for x in doc if x.text != '@user' and (x not in emoji.UNICODE_EMOJI) and x.text[0].isalpha() and x.text.strip()]\n",
    "#         ret[i] = [x.text.strip().lower() for x in doc if (x not in emoji.UNICODE_EMOJI) and x.text[0].isalpha() and x.text.strip()]\n",
    "        ret[i] = [x.text for x in doc]\n",
    "        \n",
    "    return ret\n",
    "\n",
    "def trainValidSplit(x, y, ratio):\n",
    "    assert len(x) == len(y)\n",
    "    n = int(len(x) * ratio)\n",
    "    return x[:n], y[:n], x[n:], y[n:]"
   ]
  },
  {
   "cell_type": "code",
   "execution_count": 5,
   "metadata": {},
   "outputs": [],
   "source": [
    "# print(train_x.comment[3122])\n",
    "# print(all_comments[3122])"
   ]
  },
  {
   "cell_type": "code",
   "execution_count": 4,
   "metadata": {
    "scrolled": true
   },
   "outputs": [
    {
     "name": "stdout",
     "output_type": "stream",
     "text": [
      "No. 1000\n",
      "No. 2000\n",
      "No. 3000\n",
      "No. 4000\n",
      "No. 5000\n",
      "No. 6000\n",
      "No. 7000\n",
      "No. 8000\n",
      "No. 9000\n",
      "No. 10000\n",
      "No. 11000\n",
      "No. 12000\n",
      "No. 13000\n"
     ]
    }
   ],
   "source": [
    "##################### Read Data ############################\n",
    "\n",
    "train_comments_tmp = dataPreprocess(train_x.comment).tolist()\n",
    "train_labels_tmp = train_y.label.tolist()\n",
    "\n",
    "# remove all empty comments in train data\n",
    "train_comments = []\n",
    "train_labels = []\n",
    "for i in range(len(train_comments_tmp)):\n",
    "    if len(train_comments_tmp[i]) != 0:\n",
    "        train_comments.append(train_comments_tmp[i])\n",
    "        train_labels.append(train_labels_tmp[i])\n",
    "\n",
    "test_comments = dataPreprocess(test_x.comment).tolist()\n",
    "all_comments = train_comments + test_comments"
   ]
  },
  {
   "cell_type": "code",
   "execution_count": 5,
   "metadata": {},
   "outputs": [],
   "source": [
    "##################### Define Dataset and model classes ##################\n",
    "\n",
    "class hw5_dataset(Dataset):\n",
    "    def __init__(self, is_training, dataX, dataY, w2v):\n",
    "        self.is_training = is_training\n",
    "        self.dataX = dataX\n",
    "        self.dataY = dataY\n",
    "        self.w2v = w2v # word2vec model\n",
    "        \n",
    "    def __len__(self):\n",
    "        return len(self.dataX)\n",
    "    \n",
    "    def __getitem__(self, idx):\n",
    "        x = [self.w2v.wv[x] for x in self.dataX[idx]]\n",
    "        if not self.is_training:\n",
    "            return x\n",
    "        y = self.dataY[idx]\n",
    "        return x, y\n",
    "\n",
    "def pad_collate(batch):\n",
    "    (xx, yy) = zip(*batch)\n",
    "    xx = [torch.tensor(x) for x in xx]\n",
    "    yy = torch.tensor(yy)\n",
    "    xx_pad = pad_sequence(xx, batch_first=True, padding_value=0)\n",
    "    return xx_pad, yy\n",
    "\n",
    "def pad_collate_test(batch):\n",
    "    batch = [torch.tensor(x) for x in batch]\n",
    "    xx_pad = pad_sequence(batch, batch_first=True, padding_value=0)\n",
    "    return xx_pad\n",
    "\n",
    "class RNN_LSTM(nn.Module):\n",
    "    def __init__(self, embedding_dim, hidden_size=128, num_layers=1, dropout=0, bidirectional=False):\n",
    "        super(RNN_LSTM, self).__init__()\n",
    "        \n",
    "        self.hidden_size = hidden_size\n",
    "        self.lstm = nn.LSTM(embedding_dim, hidden_size, batch_first=True, \n",
    "                            num_layers=num_layers, dropout=dropout, bidirectional=bidirectional)\n",
    "        \n",
    "        self.fc1 = nn.Sequential(\n",
    "            nn.Linear(hidden_size*(2 if bidirectional else 1), 32),\n",
    "            nn.LeakyReLU(),\n",
    "            nn.BatchNorm1d(32)\n",
    "        )\n",
    "        self.fc2 = nn.Linear(32, 2)\n",
    "        \n",
    "        # orthogonal init lstm parameters\n",
    "        for param in self.lstm.parameters():\n",
    "            if len(param.shape) >= 2:\n",
    "                init.orthogonal_(param.data)\n",
    "            else:\n",
    "                init.normal_(param.data)\n",
    "        \n",
    "    def forward(self, x):\n",
    "        out, _ = self.lstm(x)\n",
    "        out = out[:, -1, :]\n",
    "        out = self.fc1(out)\n",
    "        out = self.fc2(out)\n",
    "        return out\n",
    "        "
   ]
  },
  {
   "cell_type": "code",
   "execution_count": 53,
   "metadata": {},
   "outputs": [],
   "source": [
    "##################### Train word2vec model #########################\n",
    "\n",
    "embedding_dim = 200\n",
    "model_path = f'models/myword2vec_{embedding_dim}.model'\n",
    "if os.path.exists(model_path):\n",
    "    myw2v = Word2Vec.load(model_path)\n",
    "else:\n",
    "    myw2v = Word2Vec(all_comments, min_count = 1, size = embedding_dim)\n",
    "    myw2v.train(all_comments, total_examples = myw2v.corpus_count, epochs = 300)\n",
    "    myw2v.save(model_path)"
   ]
  },
  {
   "cell_type": "code",
   "execution_count": 46,
   "metadata": {},
   "outputs": [],
   "source": [
    "##################### Create Datasets and DataLoaders ################\n",
    "\n",
    "################ for validation ###########\n",
    "from sklearn.model_selection import train_test_split\n",
    "trainX, validX, trainY, validY = train_test_split(train_comments, train_labels, test_size=0.1, random_state=42)\n",
    "train_data = hw5_dataset(True, trainX, trainY, myw2v)\n",
    "valid_data = hw5_dataset(True, validX, validY, myw2v)\n",
    "###########################################\n",
    "\n",
    "################ final train ##############\n",
    "# train_data = hw5_dataset(True, train_comments, train_labels, myw2v)\n",
    "###########################################\n",
    "\n",
    "\n",
    "batch_size = 64\n",
    "train_loader = DataLoader(train_data, batch_size=batch_size, shuffle=True, collate_fn=pad_collate)\n",
    "valid_loader = DataLoader(valid_data, batch_size=batch_size, shuffle=False, collate_fn=pad_collate)"
   ]
  },
  {
   "cell_type": "markdown",
   "metadata": {},
   "source": [
    "## Start Training\n",
    "### training log:\n",
    "- valid loss: 0.57   acc: 0.73   (original)\n",
    "- valid loss: 0.55   acc: 0.75   (add init lstm)\n",
    "- valid loss: 0.5362 acc: 0.7522 (two lstm, dropout=0.2) (0.8 又更好) (n_layers = 3 更好)\n",
    "- valid loss: 0.5382 acc: 0.7468 (bidirectional=True)\n",
    "- valid loss: 0.6129 acc: 0.7409 (lr=1e-4, 17epoch, 3 lstm, bidirectional, dropout0.8, init lstm)\n",
    "- Epoch: 009, valid loss: 0.5632, valid acc: 0.7511 (5e-4, n=3, b, d=0.8, emb=250, hid=128)\n",
    "- Epoch: 007, valid loss: 0.5385, valid acc: 0.7405\n",
    "- hidden size 64: worse\n",
    "- emb = 200: Epoch: 007, valid loss: 0.5779, valid acc: 0.7558\n",
    "- emb = 150, hidden = 96 => Epoch: 011, valid loss: 0.5419, valid acc: 0.7587\n",
    "- dropout to 0.5 => Epoch: 007, valid loss: 0.6289, valid acc: 0.7556\n",
    "- bi = False, dp = 0.8, emb = 200, hid = 150 => Epoch: 007, valid loss: 0.5426, valid acc: 0.7493\n",
    "- hid = 96, test_size = 0.1 => Epoch: 006, valid loss: 0.5157, valid acc: 0.7619"
   ]
  },
  {
   "cell_type": "markdown",
   "metadata": {},
   "source": [
    "## 正在嘗試bi = False"
   ]
  },
  {
   "cell_type": "code",
   "execution_count": 47,
   "metadata": {},
   "outputs": [],
   "source": [
    "lr = 5e-4\n",
    "epochs = 50\n",
    "hidden_size = 96\n",
    "bd = False\n",
    "n_l = 3\n",
    "dp = 0.8"
   ]
  },
  {
   "cell_type": "code",
   "execution_count": 48,
   "metadata": {
    "scrolled": true
   },
   "outputs": [
    {
     "name": "stdout",
     "output_type": "stream",
     "text": [
      "Epoch: 000, train loss: 0.7004, train acc: 0.5374\n",
      "Epoch: 000, valid loss: 0.6361, valid acc: 0.6767\n",
      "Epoch: 001, train loss: 0.6439, train acc: 0.6645\n",
      "Epoch: 001, valid loss: 0.6302, valid acc: 0.6767\n",
      "Epoch: 002, train loss: 0.6390, train acc: 0.6671\n",
      "Epoch: 002, valid loss: 0.6280, valid acc: 0.6767\n",
      "Epoch: 003, train loss: 0.6334, train acc: 0.6668\n",
      "Epoch: 003, valid loss: 0.6257, valid acc: 0.6775\n",
      "Epoch: 004, train loss: 0.6327, train acc: 0.6663\n",
      "Epoch: 004, valid loss: 0.6315, valid acc: 0.6767\n",
      "Epoch: 005, train loss: 0.6174, train acc: 0.6729\n",
      "Epoch: 005, valid loss: 0.5759, valid acc: 0.7087\n",
      "Epoch: 006, train loss: 0.5688, train acc: 0.7153\n",
      "Epoch: 006, valid loss: 0.5385, valid acc: 0.7411\n",
      "Epoch: 007, train loss: 0.5297, train acc: 0.7465\n",
      "Epoch: 007, valid loss: 0.5962, valid acc: 0.7497\n",
      "Epoch: 008, train loss: 0.4994, train acc: 0.7687\n",
      "Epoch: 008, valid loss: 0.5256, valid acc: 0.7515\n",
      "Epoch: 009, train loss: 0.4710, train acc: 0.7892\n",
      "Epoch: 009, valid loss: 0.5538, valid acc: 0.7352\n",
      "Epoch: 010, train loss: 0.4429, train acc: 0.8080\n",
      "Epoch: 010, valid loss: 0.5674, valid acc: 0.7441\n",
      "Epoch: 011, train loss: 0.4086, train acc: 0.8316\n",
      "Epoch: 011, valid loss: 0.5614, valid acc: 0.7545\n",
      "Epoch: 012, train loss: 0.3758, train acc: 0.8514\n",
      "Epoch: 012, valid loss: 0.6221, valid acc: 0.7188\n",
      "Epoch: 013, train loss: 0.3398, train acc: 0.8678\n",
      "Epoch: 013, valid loss: 0.6668, valid acc: 0.7367\n",
      "Epoch: 014, train loss: 0.3048, train acc: 0.8900\n",
      "Epoch: 014, valid loss: 0.7110, valid acc: 0.7497\n",
      "Epoch: 015, train loss: 0.2761, train acc: 0.9037\n",
      "Epoch: 015, valid loss: 0.7309, valid acc: 0.7018\n",
      "Epoch: 016, train loss: 0.2576, train acc: 0.9107\n",
      "Epoch: 016, valid loss: 0.7823, valid acc: 0.7300\n"
     ]
    },
    {
     "ename": "KeyboardInterrupt",
     "evalue": "",
     "output_type": "error",
     "traceback": [
      "\u001b[0;31m-----------------------------------------------------\u001b[0m",
      "\u001b[0;31mKeyboardInterrupt\u001b[0m   Traceback (most recent call last)",
      "\u001b[0;32m<ipython-input-48-9b4b524e9fff>\u001b[0m in \u001b[0;36m<module>\u001b[0;34m\u001b[0m\n\u001b[1;32m     13\u001b[0m     \u001b[0mtrain_loss\u001b[0m \u001b[0;34m=\u001b[0m \u001b[0;34m[\u001b[0m\u001b[0;34m]\u001b[0m\u001b[0;34m\u001b[0m\u001b[0;34m\u001b[0m\u001b[0m\n\u001b[1;32m     14\u001b[0m     \u001b[0mtrain_acc\u001b[0m \u001b[0;34m=\u001b[0m \u001b[0;34m[\u001b[0m\u001b[0;34m]\u001b[0m\u001b[0;34m\u001b[0m\u001b[0;34m\u001b[0m\u001b[0m\n\u001b[0;32m---> 15\u001b[0;31m     \u001b[0;32mfor\u001b[0m \u001b[0mcomments\u001b[0m\u001b[0;34m,\u001b[0m \u001b[0mlabels\u001b[0m \u001b[0;32min\u001b[0m \u001b[0mtrain_loader\u001b[0m\u001b[0;34m:\u001b[0m\u001b[0;34m\u001b[0m\u001b[0;34m\u001b[0m\u001b[0m\n\u001b[0m\u001b[1;32m     16\u001b[0m         \u001b[0;32mif\u001b[0m \u001b[0muse_gpu\u001b[0m\u001b[0;34m:\u001b[0m\u001b[0;34m\u001b[0m\u001b[0;34m\u001b[0m\u001b[0m\n\u001b[1;32m     17\u001b[0m             \u001b[0mcomments\u001b[0m \u001b[0;34m=\u001b[0m \u001b[0mcomments\u001b[0m\u001b[0;34m.\u001b[0m\u001b[0mcuda\u001b[0m\u001b[0;34m(\u001b[0m\u001b[0;34m)\u001b[0m\u001b[0;34m\u001b[0m\u001b[0;34m\u001b[0m\u001b[0m\n",
      "\u001b[0;32m~/miniconda3/envs/ml2019fall_hw5/lib/python3.6/site-packages/torch/utils/data/dataloader.py\u001b[0m in \u001b[0;36m__next__\u001b[0;34m(self)\u001b[0m\n\u001b[1;32m    344\u001b[0m     \u001b[0;32mdef\u001b[0m \u001b[0m__next__\u001b[0m\u001b[0;34m(\u001b[0m\u001b[0mself\u001b[0m\u001b[0;34m)\u001b[0m\u001b[0;34m:\u001b[0m\u001b[0;34m\u001b[0m\u001b[0;34m\u001b[0m\u001b[0m\n\u001b[1;32m    345\u001b[0m         \u001b[0mindex\u001b[0m \u001b[0;34m=\u001b[0m \u001b[0mself\u001b[0m\u001b[0;34m.\u001b[0m\u001b[0m_next_index\u001b[0m\u001b[0;34m(\u001b[0m\u001b[0;34m)\u001b[0m  \u001b[0;31m# may raise StopIteration\u001b[0m\u001b[0;34m\u001b[0m\u001b[0;34m\u001b[0m\u001b[0m\n\u001b[0;32m--> 346\u001b[0;31m         \u001b[0mdata\u001b[0m \u001b[0;34m=\u001b[0m \u001b[0mself\u001b[0m\u001b[0;34m.\u001b[0m\u001b[0mdataset_fetcher\u001b[0m\u001b[0;34m.\u001b[0m\u001b[0mfetch\u001b[0m\u001b[0;34m(\u001b[0m\u001b[0mindex\u001b[0m\u001b[0;34m)\u001b[0m  \u001b[0;31m# may raise StopIteration\u001b[0m\u001b[0;34m\u001b[0m\u001b[0;34m\u001b[0m\u001b[0m\n\u001b[0m\u001b[1;32m    347\u001b[0m         \u001b[0;32mif\u001b[0m \u001b[0mself\u001b[0m\u001b[0;34m.\u001b[0m\u001b[0mpin_memory\u001b[0m\u001b[0;34m:\u001b[0m\u001b[0;34m\u001b[0m\u001b[0;34m\u001b[0m\u001b[0m\n\u001b[1;32m    348\u001b[0m             \u001b[0mdata\u001b[0m \u001b[0;34m=\u001b[0m \u001b[0m_utils\u001b[0m\u001b[0;34m.\u001b[0m\u001b[0mpin_memory\u001b[0m\u001b[0;34m.\u001b[0m\u001b[0mpin_memory\u001b[0m\u001b[0;34m(\u001b[0m\u001b[0mdata\u001b[0m\u001b[0;34m)\u001b[0m\u001b[0;34m\u001b[0m\u001b[0;34m\u001b[0m\u001b[0m\n",
      "\u001b[0;32m~/miniconda3/envs/ml2019fall_hw5/lib/python3.6/site-packages/torch/utils/data/_utils/fetch.py\u001b[0m in \u001b[0;36mfetch\u001b[0;34m(self, possibly_batched_index)\u001b[0m\n\u001b[1;32m     45\u001b[0m         \u001b[0;32melse\u001b[0m\u001b[0;34m:\u001b[0m\u001b[0;34m\u001b[0m\u001b[0;34m\u001b[0m\u001b[0m\n\u001b[1;32m     46\u001b[0m             \u001b[0mdata\u001b[0m \u001b[0;34m=\u001b[0m \u001b[0mself\u001b[0m\u001b[0;34m.\u001b[0m\u001b[0mdataset\u001b[0m\u001b[0;34m[\u001b[0m\u001b[0mpossibly_batched_index\u001b[0m\u001b[0;34m]\u001b[0m\u001b[0;34m\u001b[0m\u001b[0;34m\u001b[0m\u001b[0m\n\u001b[0;32m---> 47\u001b[0;31m         \u001b[0;32mreturn\u001b[0m \u001b[0mself\u001b[0m\u001b[0;34m.\u001b[0m\u001b[0mcollate_fn\u001b[0m\u001b[0;34m(\u001b[0m\u001b[0mdata\u001b[0m\u001b[0;34m)\u001b[0m\u001b[0;34m\u001b[0m\u001b[0;34m\u001b[0m\u001b[0m\n\u001b[0m",
      "\u001b[0;32m<ipython-input-5-5caf10e4ec3e>\u001b[0m in \u001b[0;36mpad_collate\u001b[0;34m(batch)\u001b[0m\n\u001b[1;32m     20\u001b[0m \u001b[0;32mdef\u001b[0m \u001b[0mpad_collate\u001b[0m\u001b[0;34m(\u001b[0m\u001b[0mbatch\u001b[0m\u001b[0;34m)\u001b[0m\u001b[0;34m:\u001b[0m\u001b[0;34m\u001b[0m\u001b[0;34m\u001b[0m\u001b[0m\n\u001b[1;32m     21\u001b[0m     \u001b[0;34m(\u001b[0m\u001b[0mxx\u001b[0m\u001b[0;34m,\u001b[0m \u001b[0myy\u001b[0m\u001b[0;34m)\u001b[0m \u001b[0;34m=\u001b[0m \u001b[0mzip\u001b[0m\u001b[0;34m(\u001b[0m\u001b[0;34m*\u001b[0m\u001b[0mbatch\u001b[0m\u001b[0;34m)\u001b[0m\u001b[0;34m\u001b[0m\u001b[0;34m\u001b[0m\u001b[0m\n\u001b[0;32m---> 22\u001b[0;31m     \u001b[0mxx\u001b[0m \u001b[0;34m=\u001b[0m \u001b[0;34m[\u001b[0m\u001b[0mtorch\u001b[0m\u001b[0;34m.\u001b[0m\u001b[0mtensor\u001b[0m\u001b[0;34m(\u001b[0m\u001b[0mx\u001b[0m\u001b[0;34m)\u001b[0m \u001b[0;32mfor\u001b[0m \u001b[0mx\u001b[0m \u001b[0;32min\u001b[0m \u001b[0mxx\u001b[0m\u001b[0;34m]\u001b[0m\u001b[0;34m\u001b[0m\u001b[0;34m\u001b[0m\u001b[0m\n\u001b[0m\u001b[1;32m     23\u001b[0m     \u001b[0myy\u001b[0m \u001b[0;34m=\u001b[0m \u001b[0mtorch\u001b[0m\u001b[0;34m.\u001b[0m\u001b[0mtensor\u001b[0m\u001b[0;34m(\u001b[0m\u001b[0myy\u001b[0m\u001b[0;34m)\u001b[0m\u001b[0;34m\u001b[0m\u001b[0;34m\u001b[0m\u001b[0m\n\u001b[1;32m     24\u001b[0m     \u001b[0mxx_pad\u001b[0m \u001b[0;34m=\u001b[0m \u001b[0mpad_sequence\u001b[0m\u001b[0;34m(\u001b[0m\u001b[0mxx\u001b[0m\u001b[0;34m,\u001b[0m \u001b[0mbatch_first\u001b[0m\u001b[0;34m=\u001b[0m\u001b[0;32mTrue\u001b[0m\u001b[0;34m,\u001b[0m \u001b[0mpadding_value\u001b[0m\u001b[0;34m=\u001b[0m\u001b[0;36m0\u001b[0m\u001b[0;34m)\u001b[0m\u001b[0;34m\u001b[0m\u001b[0;34m\u001b[0m\u001b[0m\n",
      "\u001b[0;32m<ipython-input-5-5caf10e4ec3e>\u001b[0m in \u001b[0;36m<listcomp>\u001b[0;34m(.0)\u001b[0m\n\u001b[1;32m     20\u001b[0m \u001b[0;32mdef\u001b[0m \u001b[0mpad_collate\u001b[0m\u001b[0;34m(\u001b[0m\u001b[0mbatch\u001b[0m\u001b[0;34m)\u001b[0m\u001b[0;34m:\u001b[0m\u001b[0;34m\u001b[0m\u001b[0;34m\u001b[0m\u001b[0m\n\u001b[1;32m     21\u001b[0m     \u001b[0;34m(\u001b[0m\u001b[0mxx\u001b[0m\u001b[0;34m,\u001b[0m \u001b[0myy\u001b[0m\u001b[0;34m)\u001b[0m \u001b[0;34m=\u001b[0m \u001b[0mzip\u001b[0m\u001b[0;34m(\u001b[0m\u001b[0;34m*\u001b[0m\u001b[0mbatch\u001b[0m\u001b[0;34m)\u001b[0m\u001b[0;34m\u001b[0m\u001b[0;34m\u001b[0m\u001b[0m\n\u001b[0;32m---> 22\u001b[0;31m     \u001b[0mxx\u001b[0m \u001b[0;34m=\u001b[0m \u001b[0;34m[\u001b[0m\u001b[0mtorch\u001b[0m\u001b[0;34m.\u001b[0m\u001b[0mtensor\u001b[0m\u001b[0;34m(\u001b[0m\u001b[0mx\u001b[0m\u001b[0;34m)\u001b[0m \u001b[0;32mfor\u001b[0m \u001b[0mx\u001b[0m \u001b[0;32min\u001b[0m \u001b[0mxx\u001b[0m\u001b[0;34m]\u001b[0m\u001b[0;34m\u001b[0m\u001b[0;34m\u001b[0m\u001b[0m\n\u001b[0m\u001b[1;32m     23\u001b[0m     \u001b[0myy\u001b[0m \u001b[0;34m=\u001b[0m \u001b[0mtorch\u001b[0m\u001b[0;34m.\u001b[0m\u001b[0mtensor\u001b[0m\u001b[0;34m(\u001b[0m\u001b[0myy\u001b[0m\u001b[0;34m)\u001b[0m\u001b[0;34m\u001b[0m\u001b[0;34m\u001b[0m\u001b[0m\n\u001b[1;32m     24\u001b[0m     \u001b[0mxx_pad\u001b[0m \u001b[0;34m=\u001b[0m \u001b[0mpad_sequence\u001b[0m\u001b[0;34m(\u001b[0m\u001b[0mxx\u001b[0m\u001b[0;34m,\u001b[0m \u001b[0mbatch_first\u001b[0m\u001b[0;34m=\u001b[0m\u001b[0;32mTrue\u001b[0m\u001b[0;34m,\u001b[0m \u001b[0mpadding_value\u001b[0m\u001b[0;34m=\u001b[0m\u001b[0;36m0\u001b[0m\u001b[0;34m)\u001b[0m\u001b[0;34m\u001b[0m\u001b[0;34m\u001b[0m\u001b[0m\n",
      "\u001b[0;31mKeyboardInterrupt\u001b[0m: "
     ]
    }
   ],
   "source": [
    "model = RNN_LSTM(embedding_dim, hidden_size=hidden_size, bidirectional=bd, num_layers=n_l, dropout=dp)\n",
    "# model.apply(weight_init)\n",
    "loss_fn = nn.CrossEntropyLoss()\n",
    "optimizer = optim.Adam(model.parameters(), lr=lr)\n",
    "\n",
    "use_gpu = torch.cuda.is_available()\n",
    "if use_gpu:\n",
    "    model.cuda()\n",
    "\n",
    "history = {'val_loss': [], 'val_acc': [], 'train_loss': [], 'train_acc': []}\n",
    "for epoch in range(epochs):\n",
    "    model.train()\n",
    "    train_loss = []\n",
    "    train_acc = []\n",
    "    for comments, labels in train_loader:\n",
    "        if use_gpu:\n",
    "            comments = comments.cuda()\n",
    "            labels = labels.cuda()\n",
    "        optimizer.zero_grad()\n",
    "        outputs = model(comments)\n",
    "        loss = loss_fn(outputs, labels)\n",
    "        loss.backward()\n",
    "        optimizer.step()\n",
    "        \n",
    "        predict = torch.max(outputs, 1)[1]\n",
    "        acc = np.mean((labels == predict).cpu().numpy())\n",
    "        train_acc.append(acc)\n",
    "        train_loss.append(loss.item())\n",
    "        \n",
    "#     if epoch % 10 == 0:\n",
    "    train_loss = np.mean(train_loss)\n",
    "    train_acc = np.mean(train_acc)\n",
    "    print(f'Epoch: {\"%03d\" % (epoch)}, train loss: {\"%.4f\" % train_loss}, train acc: {\"%.4f\" % train_acc}')\n",
    "    torch.save(model.state_dict(), f'models/rnn_epoch{epoch}_{datetime.now().strftime(\"%m%d%H%M\")}')\n",
    "\n",
    "    # validation\n",
    "    model.eval()\n",
    "    with torch.no_grad():\n",
    "        valid_loss = []\n",
    "        valid_acc = []\n",
    "        for comments, labels in valid_loader:\n",
    "            if use_gpu:\n",
    "                comments = comments.cuda()\n",
    "                labels = labels.cuda()\n",
    "            outputs = model(comments)\n",
    "            loss = loss_fn(outputs, labels)\n",
    "            predict = torch.max(outputs, 1)[1]\n",
    "#             print(predict)\n",
    "            acc = np.mean((labels == predict).cpu().numpy())\n",
    "            valid_acc.append(acc)\n",
    "            valid_loss.append(loss.item())\n",
    "        valid_loss = np.mean(valid_loss)\n",
    "        valid_acc = np.mean(valid_acc)\n",
    "        print(f'Epoch: {\"%03d\" % (epoch)}, valid loss: {\"%.4f\" % valid_loss}, valid acc: {\"%.4f\" % valid_acc}')\n",
    "\n",
    "        history['train_loss'].append(train_loss)\n",
    "        history['train_acc'].append(train_acc)        \n",
    "        history['val_loss'].append(valid_loss)\n",
    "        history['val_acc'].append(valid_acc)\n"
   ]
  },
  {
   "cell_type": "code",
   "execution_count": 50,
   "metadata": {},
   "outputs": [
    {
     "data": {
      "image/png": "[encoded data removed]",
      "text/plain": [
       "<Figure size 432x288 with 1 Axes>"
      ]
     },
     "metadata": {
      "needs_background": "light"
     },
     "output_type": "display_data"
    },
    {
     "data": {
      "image/png": "[encoded data removed]",
      "text/plain": [
       "<Figure size 432x288 with 1 Axes>"
      ]
     },
     "metadata": {
      "needs_background": "light"
     },
     "output_type": "display_data"
    }
   ],
   "source": [
    "def plot_history(history):\n",
    "    import matplotlib.pyplot as plt\n",
    "\n",
    "    epoch = len(history['train_acc'])\n",
    "    x = list(range(1, epoch+1))\n",
    "    # plot loss\n",
    "    plt.plot(x, history['val_loss'], color='red', label='validation loss')\n",
    "    plt.plot(x, history['train_loss'], label='training loss')\n",
    "    plt.xlabel('Epoch')\n",
    "    plt.ylabel('Loss')\n",
    "    plt.title('Loss vs. Epoch')\n",
    "    plt.legend()\n",
    "    plt.show()\n",
    "    plt.cla()\n",
    "    # plot acc\n",
    "    plt.plot(x, history['val_acc'], color='red', label='validation accuracy')\n",
    "    plt.plot(x, history['train_acc'], label='training accuracy')\n",
    "    plt.xlabel('Epoch')\n",
    "    plt.ylabel('Accuracy')\n",
    "    plt.title('Accuracy vs. Epoch')\n",
    "    plt.legend(loc='lower right')\n",
    "    plt.show()\n",
    "#     plt.cla()\n",
    "    \n",
    "plot_history(history)"
   ]
  },
  {
   "cell_type": "markdown",
   "metadata": {},
   "source": [
    "## Testing!"
   ]
  },
  {
   "cell_type": "code",
   "execution_count": 56,
   "metadata": {},
   "outputs": [],
   "source": [
    "# if test comment is empty, set it equal to it's previous\n",
    "for i in range(len(test_comments)):\n",
    "    if len(test_comments[i]) == 0:\n",
    "        test_comments[i] = test_comments[i]\n",
    "\n",
    "test_data = hw5_dataset(False, test_comments, None, myw2v)\n",
    "test_loader = DataLoader(test_data, batch_size=batch_size, shuffle=False, collate_fn=pad_collate_test)\n",
    "\n",
    "model = RNN_LSTM(embedding_dim, hidden_size=hidden_size, bidirectional=bd, num_layers=n_l, dropout=dp)\n",
    "model.load_state_dict(torch.load('models/valid_0.7619'))\n",
    "use_gpu = torch.cuda.is_available()\n",
    "if use_gpu:\n",
    "    model.cuda()\n",
    "\n",
    "model.eval()\n",
    "results = []\n",
    "with torch.no_grad():\n",
    "    for comments in test_loader:\n",
    "        if use_gpu:\n",
    "            comments = comments.cuda()\n",
    "        outputs = model(comments)\n",
    "        predict = torch.max(outputs, 1)[1]\n",
    "        results += predict.cpu().tolist()"
   ]
  },
  {
   "cell_type": "code",
   "execution_count": 57,
   "metadata": {},
   "outputs": [
    {
     "name": "stdout",
     "output_type": "stream",
     "text": [
      "Writing results to results/valid_0.7619.csv\n"
     ]
    }
   ],
   "source": [
    "def write_ans(result, path):\n",
    "    print(f'Writing results to {path}')\n",
    "    dirname = os.path.dirname(path)\n",
    "    if dirname and not os.path.exists(dirname):\n",
    "        os.makedirs(dirname)\n",
    "        \n",
    "    df = pd.DataFrame({'id': np.arange(0, len(result)), 'label': result})\n",
    "    df.to_csv(path, index=False)\n",
    "write_ans(results, 'results/valid_0.7619.csv')"
   ]
  },
  {
   "cell_type": "code",
   "execution_count": null,
   "metadata": {},
   "outputs": [],
   "source": []
  }
 ],
 "metadata": {
  "kernelspec": {
   "display_name": "Python (ml2019fall_hw5)",
   "language": "python",
   "name": "ml2019fall_hw5"
  },
  "language_info": {
   "codemirror_mode": {
    "name": "ipython",
    "version": 3
   },
   "file_extension": ".py",
   "mimetype": "text/x-python",
   "name": "python",
   "nbconvert_exporter": "python",
   "pygments_lexer": "ipython3",
   "version": "3.6.9"
  }
 },
 "nbformat": 4,
 "nbformat_minor": 2
}
